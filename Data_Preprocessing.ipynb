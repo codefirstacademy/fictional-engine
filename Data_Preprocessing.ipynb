{
 "cells": [
  {
   "cell_type": "code",
   "execution_count": 7,
   "metadata": {},
   "outputs": [
    {
     "name": "stdout",
     "output_type": "stream",
     "text": [
      "\n",
      "\n",
      "DATA\n",
      "\n",
      "\n",
      "                                                Text\n",
      "0  Do you feel used by God? \\nHebrews 13:20 Now m...\n",
      "1                            https://t.co/9xu5kNtKuS\n",
      "2  Perhaps God loves a good story with a really d...\n",
      "3  The Red Dragon \\n Revelation 12:3 And another ...\n",
      "4  Scott Morrison: Increase the Newstart payment ...\n"
     ]
    }
   ],
   "source": [
    "#importing required libraries\n",
    "import pandas as pd\n",
    "train = pd.read_csv('georgefloyd-tweets.csv')\n",
    "print('\\n\\nDATA\\n\\n')\n",
    "print(train.head())\n"
   ]
  },
  {
   "cell_type": "code",
   "execution_count": 8,
   "metadata": {},
   "outputs": [
    {
     "data": {
      "text/plain": [
       "0    do you feel used by god? hebrews 13:20 now may...\n",
       "1                              https://t.co/9xu5kntkus\n",
       "2    perhaps god loves a good story with a really d...\n",
       "3    the red dragon revelation 12:3 and another sig...\n",
       "4    scott morrison: increase the newstart payment ...\n",
       "Name: Text, dtype: object"
      ]
     },
     "execution_count": 8,
     "metadata": {},
     "output_type": "execute_result"
    }
   ],
   "source": [
    "#Converting the Data into Lower Case\n",
    "train['Text'] = train['Text'].apply(lambda x: \" \".join(x.lower() for x in x.split()))\n",
    "train['Text'].head()"
   ]
  },
  {
   "cell_type": "code",
   "execution_count": 9,
   "metadata": {},
   "outputs": [
    {
     "data": {
      "text/plain": [
       "0    do you feel used by god hebrews 1320 now may t...\n",
       "1                                   httpstco9xu5kntkus\n",
       "2    perhaps god loves a good story with a really d...\n",
       "3    the red dragon revelation 123 and another sign...\n",
       "4    scott morrison increase the newstart payment b...\n",
       "Name: Text, dtype: object"
      ]
     },
     "execution_count": 9,
     "metadata": {},
     "output_type": "execute_result"
    }
   ],
   "source": [
    "#Removing the Pucntuations form the text\n",
    "\n",
    "train['Text'] = train['Text'].str.replace('[^\\w\\s]','')\n",
    "train['Text'].head()"
   ]
  },
  {
   "cell_type": "code",
   "execution_count": 10,
   "metadata": {},
   "outputs": [
    {
     "data": {
      "text/plain": [
       "0    feel used god hebrews 1320 may god peace broug...\n",
       "1                                   httpstco9xu5kntkus\n",
       "2    perhaps god loves good story really dramatic c...\n",
       "3    red dragon revelation 123 another sign appeare...\n",
       "4    scott morrison increase newstart payment 75 pe...\n",
       "Name: Text, dtype: object"
      ]
     },
     "execution_count": 10,
     "metadata": {},
     "output_type": "execute_result"
    }
   ],
   "source": [
    "#Removel of the stop words\n",
    "from nltk.corpus import stopwords\n",
    "stop = stopwords.words('english')\n",
    "train['Text'] = train['Text'].apply(lambda x: \" \".join(x for x in x.split() if x not in stop))\n",
    "train['Text'].head()"
   ]
  },
  {
   "cell_type": "code",
   "execution_count": 11,
   "metadata": {},
   "outputs": [
    {
     "data": {
      "text/plain": [
       "hi             29\n",
       "swommers       22\n",
       "free           22\n",
       "via            19\n",
       "swom           16\n",
       "httpswomcom    15\n",
       "get            12\n",
       "site           10\n",
       "new             9\n",
       "traffic         8\n",
       "dtype: int64"
      ]
     },
     "execution_count": 11,
     "metadata": {},
     "output_type": "execute_result"
    }
   ],
   "source": [
    "# Removal of the Common words\n",
    "freq = pd.Series(' '.join(train['Text']).split()).value_counts()[:10]\n",
    "freq"
   ]
  },
  {
   "cell_type": "code",
   "execution_count": 12,
   "metadata": {},
   "outputs": [
    {
     "data": {
      "text/plain": [
       "0    feel used god hebrews 1320 may god peace broug...\n",
       "1                                   httpstco9xu5kntkus\n",
       "2    perhaps god loves good story really dramatic c...\n",
       "3    red dragon revelation 123 another sign appeare...\n",
       "4    scott morrison increase newstart payment 75 pe...\n",
       "Name: Text, dtype: object"
      ]
     },
     "execution_count": 12,
     "metadata": {},
     "output_type": "execute_result"
    }
   ],
   "source": [
    "freq = list(freq.index)\n",
    "train['Text'] = train['Text'].apply(lambda x: \" \".join(x for x in x.split() if x not in freq))\n",
    "train['Text'].head()"
   ]
  },
  {
   "cell_type": "code",
   "execution_count": 13,
   "metadata": {},
   "outputs": [
    {
     "data": {
      "text/plain": [
       "5                                                1\n",
       "blades                                           1\n",
       "here2helpservic                                  1\n",
       "personal                                         1\n",
       "httptinyurlcomgpf1234                            1\n",
       "httpswomcomkra1d                                 1\n",
       "updated                                          1\n",
       "httpwwwwndcompageid125439                        1\n",
       "httpwwwlucypringlecoukphotos2009uk2009bmshtml    1\n",
       "whoohoo                                          1\n",
       "dtype: int64"
      ]
     },
     "execution_count": 13,
     "metadata": {},
     "output_type": "execute_result"
    }
   ],
   "source": [
    "# Removal of Rare words\n",
    "freq = pd.Series(' '.join(train['Text']).split()).value_counts()[-10:]\n",
    "freq"
   ]
  },
  {
   "cell_type": "code",
   "execution_count": 14,
   "metadata": {},
   "outputs": [
    {
     "data": {
      "text/plain": [
       "0    feel used god hebrews 1320 may god peace broug...\n",
       "1                                   httpstco9xu5kntkus\n",
       "2    perhaps god loves good story really dramatic c...\n",
       "3    red dragon revelation 123 another sign appeare...\n",
       "4    scott morrison increase newstart payment 75 pe...\n",
       "Name: Text, dtype: object"
      ]
     },
     "execution_count": 14,
     "metadata": {},
     "output_type": "execute_result"
    }
   ],
   "source": [
    "freq = list(freq.index)\n",
    "train['Text'] = train['Text'].apply(lambda x: \" \".join(x for x in x.split() if x not in freq))\n",
    "train['Text'].head()"
   ]
  },
  {
   "cell_type": "code",
   "execution_count": 15,
   "metadata": {},
   "outputs": [
    {
     "data": {
      "text/plain": [
       "0    feel used god hebrew 1320 may god peace brough...\n",
       "1                                   httpstco9xu5kntkus\n",
       "2    perhaps god loves good story really dramatic c...\n",
       "3    red dragon revelation 123 another sign appeare...\n",
       "4    scott morrison increase newstart payment 75 pe...\n",
       "Name: Text, dtype: object"
      ]
     },
     "execution_count": 15,
     "metadata": {},
     "output_type": "execute_result"
    }
   ],
   "source": [
    "# Spelling Correction\n",
    "from textblob import TextBlob\n",
    "train['Text'][:5].apply(lambda x: str(TextBlob(x).correct()))"
   ]
  },
  {
   "cell_type": "code",
   "execution_count": 16,
   "metadata": {},
   "outputs": [
    {
     "data": {
      "text/plain": [
       "WordList(['httpstco9xu5kntkus'])"
      ]
     },
     "execution_count": 16,
     "metadata": {},
     "output_type": "execute_result"
    }
   ],
   "source": [
    "#Tokenization\n",
    "TextBlob(train['Text'][1]).words"
   ]
  },
  {
   "cell_type": "code",
   "execution_count": 17,
   "metadata": {},
   "outputs": [
    {
     "data": {
      "text/plain": [
       "0    feel use god hebrew 1320 may god peac brought ...\n",
       "1                                    httpstco9xu5kntku\n",
       "2    perhap god love good stori realli dramat clima...\n",
       "3    red dragon revel 123 anoth sign appear heaven ...\n",
       "4    scott morrison increas newstart payment 75 per...\n",
       "Name: Text, dtype: object"
      ]
     },
     "execution_count": 17,
     "metadata": {},
     "output_type": "execute_result"
    }
   ],
   "source": [
    "#Stemming\n",
    "from nltk.stem import PorterStemmer\n",
    "st = PorterStemmer()\n",
    "train['Text'][:5].apply(lambda x: \" \".join([st.stem(word) for word in x.split()]))"
   ]
  },
  {
   "cell_type": "code",
   "execution_count": 18,
   "metadata": {},
   "outputs": [
    {
     "data": {
      "text/plain": [
       "0     feel used god hebrew 1320 may god peace brough...\n",
       "1                                    httpstco9xu5kntkus\n",
       "2     perhaps god love good story really dramatic cl...\n",
       "3     red dragon revelation 123 another sign appeare...\n",
       "4     scott morrison increase newstart payment 75 pe...\n",
       "5          denialisahoax genesismining seen payouts yet\n",
       "6                   genesismining classic scam response\n",
       "7                                          zcash zcrash\n",
       "8     poloniex im getting there problem website secu...\n",
       "9                            zayahas httpstcojn5ftopu93\n",
       "10    rt gitcoingg 100 mill 600 giveaway 100 winner ...\n",
       "11    moon bitcoin bitcoin faucet decide claim https...\n",
       "12    mininghere thank giving burst mine burst minin...\n",
       "13    joined linkedin created professional profile j...\n",
       "14                there rumour there prison break hakea\n",
       "15                                start httptcorwob6k46\n",
       "16    success doesnt show didnt work today building ...\n",
       "17    wind power without big pic discovery news http...\n",
       "18    twitter pay 80 monthly cable tv enjoy 4000 cha...\n",
       "19    fight inflation rising cost living create weal...\n",
       "Name: Text, dtype: object"
      ]
     },
     "execution_count": 18,
     "metadata": {},
     "output_type": "execute_result"
    }
   ],
   "source": [
    "#Lemmatization\n",
    "from textblob import Word\n",
    "train['Text'] = train['Text'].apply(lambda x: \" \".join([Word(word).lemmatize() for word in x.split()]))\n",
    "train['Text'].head(20)"
   ]
  },
  {
   "cell_type": "code",
   "execution_count": 19,
   "metadata": {},
   "outputs": [
    {
     "data": {
      "text/plain": [
       "Sentiment(polarity=-0.3076923076923077, subjectivity=0.5769230769230769)"
      ]
     },
     "execution_count": 19,
     "metadata": {},
     "output_type": "execute_result"
    }
   ],
   "source": [
    "from textblob import TextBlob\n",
    "TextBlob(\"not a very great calculation\").sentiment"
   ]
  },
  {
   "cell_type": "code",
   "execution_count": 20,
   "metadata": {},
   "outputs": [
    {
     "data": {
      "text/plain": [
       "Sentiment(polarity=0.8, subjectivity=0.75)"
      ]
     },
     "execution_count": 20,
     "metadata": {},
     "output_type": "execute_result"
    }
   ],
   "source": [
    "#POSITIVITY\n",
    "\n",
    "TextBlob(\"great\").sentiment"
   ]
  },
  {
   "cell_type": "code",
   "execution_count": 21,
   "metadata": {},
   "outputs": [
    {
     "data": {
      "text/plain": [
       "Sentiment(polarity=-0.4, subjectivity=0.75)"
      ]
     },
     "execution_count": 21,
     "metadata": {},
     "output_type": "execute_result"
    }
   ],
   "source": [
    "#NEGATION\n",
    "\n",
    "TextBlob(\"not great\").sentiment"
   ]
  },
  {
   "cell_type": "code",
   "execution_count": 22,
   "metadata": {},
   "outputs": [
    {
     "data": {
      "text/plain": [
       "Sentiment(polarity=1.0, subjectivity=0.9750000000000001)"
      ]
     },
     "execution_count": 22,
     "metadata": {},
     "output_type": "execute_result"
    }
   ],
   "source": [
    "#MODIFIER WORDS\n",
    "\n",
    "TextBlob(\"very great\").sentiment"
   ]
  },
  {
   "cell_type": "code",
   "execution_count": 23,
   "metadata": {},
   "outputs": [
    {
     "data": {
      "text/plain": [
       "Sentiment(polarity=-0.3076923076923077, subjectivity=0.5769230769230769)"
      ]
     },
     "execution_count": 23,
     "metadata": {},
     "output_type": "execute_result"
    }
   ],
   "source": [
    "#MODIFIER + NEGATION\n",
    "\n",
    "TextBlob(\"not very great\").sentiment"
   ]
  },
  {
   "cell_type": "code",
   "execution_count": 24,
   "metadata": {},
   "outputs": [
    {
     "data": {
      "text/plain": [
       "Sentiment(polarity=-0.3076923076923077, subjectivity=0.5769230769230769)"
      ]
     },
     "execution_count": 24,
     "metadata": {},
     "output_type": "execute_result"
    }
   ],
   "source": [
    "#MODIFIER + NEGATION + UNKNOWN WORD\n",
    "\n",
    "TextBlob(\"not a very great\").sentiment"
   ]
  },
  {
   "cell_type": "code",
   "execution_count": 25,
   "metadata": {},
   "outputs": [
    {
     "data": {
      "text/plain": [
       "0                                    (-0.2, 0.4)\n",
       "1                                     (0.0, 0.0)\n",
       "2      (0.39166666666666666, 0.6375000000000001)\n",
       "3                    (0.26666666666666666, 0.25)\n",
       "4                                     (0.0, 0.0)\n",
       "5                                     (0.0, 0.0)\n",
       "6     (0.16666666666666666, 0.16666666666666666)\n",
       "7                                     (0.0, 0.0)\n",
       "8                                     (0.0, 0.0)\n",
       "9                                     (0.0, 0.0)\n",
       "10                                    (0.0, 0.0)\n",
       "11                                    (0.0, 0.0)\n",
       "12                                    (0.0, 0.0)\n",
       "13                                    (0.1, 0.1)\n",
       "14                                    (0.0, 0.0)\n",
       "15                                    (0.0, 0.0)\n",
       "16                                    (0.3, 0.0)\n",
       "17                                    (0.0, 0.1)\n",
       "18                                    (0.4, 0.5)\n",
       "19                    (0.0, 0.35714285714285715)\n",
       "Name: Text, dtype: object"
      ]
     },
     "execution_count": 25,
     "metadata": {},
     "output_type": "execute_result"
    }
   ],
   "source": [
    "from textblob import TextBlob\n",
    "train['Text'][:20].apply(lambda x: TextBlob(x).sentiment)\n"
   ]
  },
  {
   "cell_type": "code",
   "execution_count": 26,
   "metadata": {},
   "outputs": [
    {
     "data": {
      "text/html": [
       "<div>\n",
       "<style scoped>\n",
       "    .dataframe tbody tr th:only-of-type {\n",
       "        vertical-align: middle;\n",
       "    }\n",
       "\n",
       "    .dataframe tbody tr th {\n",
       "        vertical-align: top;\n",
       "    }\n",
       "\n",
       "    .dataframe thead th {\n",
       "        text-align: right;\n",
       "    }\n",
       "</style>\n",
       "<table border=\"1\" class=\"dataframe\">\n",
       "  <thead>\n",
       "    <tr style=\"text-align: right;\">\n",
       "      <th></th>\n",
       "      <th>Text</th>\n",
       "      <th>sentiment</th>\n",
       "    </tr>\n",
       "  </thead>\n",
       "  <tbody>\n",
       "    <tr>\n",
       "      <th>0</th>\n",
       "      <td>feel used god hebrew 1320 may god peace brough...</td>\n",
       "      <td>-0.200000</td>\n",
       "    </tr>\n",
       "    <tr>\n",
       "      <th>1</th>\n",
       "      <td>httpstco9xu5kntkus</td>\n",
       "      <td>0.000000</td>\n",
       "    </tr>\n",
       "    <tr>\n",
       "      <th>2</th>\n",
       "      <td>perhaps god love good story really dramatic cl...</td>\n",
       "      <td>0.391667</td>\n",
       "    </tr>\n",
       "    <tr>\n",
       "      <th>3</th>\n",
       "      <td>red dragon revelation 123 another sign appeare...</td>\n",
       "      <td>0.266667</td>\n",
       "    </tr>\n",
       "    <tr>\n",
       "      <th>4</th>\n",
       "      <td>scott morrison increase newstart payment 75 pe...</td>\n",
       "      <td>0.000000</td>\n",
       "    </tr>\n",
       "    <tr>\n",
       "      <th>...</th>\n",
       "      <td>...</td>\n",
       "      <td>...</td>\n",
       "    </tr>\n",
       "    <tr>\n",
       "      <th>125</th>\n",
       "      <td>ok set teprofits 25 letter series auto responder</td>\n",
       "      <td>0.500000</td>\n",
       "    </tr>\n",
       "    <tr>\n",
       "      <th>126</th>\n",
       "      <td>ha set series letter put squeeze pg splash lis...</td>\n",
       "      <td>0.000000</td>\n",
       "    </tr>\n",
       "    <tr>\n",
       "      <th>127</th>\n",
       "      <td>learning auto responder trafficwave signed aff...</td>\n",
       "      <td>0.000000</td>\n",
       "    </tr>\n",
       "    <tr>\n",
       "      <th>128</th>\n",
       "      <td>big88twin yeah raining use desert</td>\n",
       "      <td>0.000000</td>\n",
       "    </tr>\n",
       "    <tr>\n",
       "      <th>129</th>\n",
       "      <td>im share knowledge lead generate utilize exper...</td>\n",
       "      <td>0.000000</td>\n",
       "    </tr>\n",
       "  </tbody>\n",
       "</table>\n",
       "<p>130 rows × 2 columns</p>\n",
       "</div>"
      ],
      "text/plain": [
       "                                                  Text  sentiment\n",
       "0    feel used god hebrew 1320 may god peace brough...  -0.200000\n",
       "1                                   httpstco9xu5kntkus   0.000000\n",
       "2    perhaps god love good story really dramatic cl...   0.391667\n",
       "3    red dragon revelation 123 another sign appeare...   0.266667\n",
       "4    scott morrison increase newstart payment 75 pe...   0.000000\n",
       "..                                                 ...        ...\n",
       "125   ok set teprofits 25 letter series auto responder   0.500000\n",
       "126  ha set series letter put squeeze pg splash lis...   0.000000\n",
       "127  learning auto responder trafficwave signed aff...   0.000000\n",
       "128                  big88twin yeah raining use desert   0.000000\n",
       "129  im share knowledge lead generate utilize exper...   0.000000\n",
       "\n",
       "[130 rows x 2 columns]"
      ]
     },
     "execution_count": 26,
     "metadata": {},
     "output_type": "execute_result"
    }
   ],
   "source": [
    "train['sentiment'] = train['Text'].apply(lambda x: TextBlob(x).sentiment[0] )\n",
    "train[['Text','sentiment']].head(200)"
   ]
  },
  {
   "cell_type": "code",
   "execution_count": null,
   "metadata": {},
   "outputs": [],
   "source": []
  }
 ],
 "metadata": {
  "kernelspec": {
   "display_name": "Python 3",
   "language": "python",
   "name": "python3"
  },
  "language_info": {
   "codemirror_mode": {
    "name": "ipython",
    "version": 3
   },
   "file_extension": ".py",
   "mimetype": "text/x-python",
   "name": "python",
   "nbconvert_exporter": "python",
   "pygments_lexer": "ipython3",
   "version": "3.7.1"
  }
 },
 "nbformat": 4,
 "nbformat_minor": 2
}
